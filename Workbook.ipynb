{
 "cells": [
  {
   "cell_type": "code",
   "execution_count": 1,
   "metadata": {},
   "outputs": [],
   "source": [
    "import pandas as pd\n",
    "import datetime as dt\n",
    "import matplotlib.pyplot as plt\n",
    "import numpy as np"
   ]
  },
  {
   "cell_type": "code",
   "execution_count": 2,
   "metadata": {},
   "outputs": [
    {
     "data": {
      "text/html": [
       "<div>\n",
       "<style scoped>\n",
       "    .dataframe tbody tr th:only-of-type {\n",
       "        vertical-align: middle;\n",
       "    }\n",
       "\n",
       "    .dataframe tbody tr th {\n",
       "        vertical-align: top;\n",
       "    }\n",
       "\n",
       "    .dataframe thead th {\n",
       "        text-align: right;\n",
       "    }\n",
       "</style>\n",
       "<table border=\"1\" class=\"dataframe\">\n",
       "  <thead>\n",
       "    <tr style=\"text-align: right;\">\n",
       "      <th></th>\n",
       "      <th>customer_id</th>\n",
       "      <th>trans_date</th>\n",
       "      <th>tran_amount</th>\n",
       "    </tr>\n",
       "  </thead>\n",
       "  <tbody>\n",
       "    <tr>\n",
       "      <th>0</th>\n",
       "      <td>FM5295</td>\n",
       "      <td>2017-11-11</td>\n",
       "      <td>35</td>\n",
       "    </tr>\n",
       "    <tr>\n",
       "      <th>1</th>\n",
       "      <td>FM4768</td>\n",
       "      <td>2019-12-15</td>\n",
       "      <td>39</td>\n",
       "    </tr>\n",
       "    <tr>\n",
       "      <th>2</th>\n",
       "      <td>FM2122</td>\n",
       "      <td>2017-11-26</td>\n",
       "      <td>52</td>\n",
       "    </tr>\n",
       "    <tr>\n",
       "      <th>3</th>\n",
       "      <td>FM1217</td>\n",
       "      <td>2016-08-16</td>\n",
       "      <td>99</td>\n",
       "    </tr>\n",
       "    <tr>\n",
       "      <th>4</th>\n",
       "      <td>FM1850</td>\n",
       "      <td>2018-08-20</td>\n",
       "      <td>78</td>\n",
       "    </tr>\n",
       "  </tbody>\n",
       "</table>\n",
       "</div>"
      ],
      "text/plain": [
       "  customer_id trans_date  tran_amount\n",
       "0      FM5295 2017-11-11           35\n",
       "1      FM4768 2019-12-15           39\n",
       "2      FM2122 2017-11-26           52\n",
       "3      FM1217 2016-08-16           99\n",
       "4      FM1850 2018-08-20           78"
      ]
     },
     "execution_count": 2,
     "metadata": {},
     "output_type": "execute_result"
    }
   ],
   "source": [
    "df = pd.read_csv('rfm_xmas19.txt',parse_dates=['trans_date'])\n",
    "df.head()"
   ]
  },
  {
   "cell_type": "code",
   "execution_count": 3,
   "metadata": {},
   "outputs": [
    {
     "data": {
      "text/plain": [
       "False    124993\n",
       "True          7\n",
       "dtype: int64"
      ]
     },
     "execution_count": 3,
     "metadata": {},
     "output_type": "execute_result"
    }
   ],
   "source": [
    "df.duplicated().value_counts()"
   ]
  },
  {
   "cell_type": "code",
   "execution_count": 4,
   "metadata": {},
   "outputs": [
    {
     "data": {
      "text/html": [
       "<div>\n",
       "<style scoped>\n",
       "    .dataframe tbody tr th:only-of-type {\n",
       "        vertical-align: middle;\n",
       "    }\n",
       "\n",
       "    .dataframe tbody tr th {\n",
       "        vertical-align: top;\n",
       "    }\n",
       "\n",
       "    .dataframe thead th {\n",
       "        text-align: right;\n",
       "    }\n",
       "</style>\n",
       "<table border=\"1\" class=\"dataframe\">\n",
       "  <thead>\n",
       "    <tr style=\"text-align: right;\">\n",
       "      <th></th>\n",
       "      <th>trans_date</th>\n",
       "    </tr>\n",
       "    <tr>\n",
       "      <th>customer_id</th>\n",
       "      <th></th>\n",
       "    </tr>\n",
       "  </thead>\n",
       "  <tbody>\n",
       "    <tr>\n",
       "      <th>FM1112</th>\n",
       "      <td>2019-10-14</td>\n",
       "    </tr>\n",
       "    <tr>\n",
       "      <th>FM1113</th>\n",
       "      <td>2019-11-09</td>\n",
       "    </tr>\n",
       "    <tr>\n",
       "      <th>FM1114</th>\n",
       "      <td>2019-11-12</td>\n",
       "    </tr>\n",
       "    <tr>\n",
       "      <th>FM1115</th>\n",
       "      <td>2019-12-05</td>\n",
       "    </tr>\n",
       "    <tr>\n",
       "      <th>FM1116</th>\n",
       "      <td>2019-05-25</td>\n",
       "    </tr>\n",
       "  </tbody>\n",
       "</table>\n",
       "</div>"
      ],
      "text/plain": [
       "            trans_date\n",
       "customer_id           \n",
       "FM1112      2019-10-14\n",
       "FM1113      2019-11-09\n",
       "FM1114      2019-11-12\n",
       "FM1115      2019-12-05\n",
       "FM1116      2019-05-25"
      ]
     },
     "execution_count": 4,
     "metadata": {},
     "output_type": "execute_result"
    }
   ],
   "source": [
    "best_churn = pd.DataFrame(df.groupby(['customer_id'])['trans_date'].max())\n",
    "best_churn.head()"
   ]
  },
  {
   "cell_type": "code",
   "execution_count": 5,
   "metadata": {},
   "outputs": [],
   "source": [
    "cutoff_date = dt.datetime(2019,10,16)"
   ]
  },
  {
   "cell_type": "markdown",
   "metadata": {},
   "source": [
    "best_churn['trans_date'].apply(lambda x: if 1 cutoff_date > x else 0)"
   ]
  },
  {
   "cell_type": "code",
   "execution_count": 6,
   "metadata": {},
   "outputs": [
    {
     "data": {
      "text/html": [
       "<div>\n",
       "<style scoped>\n",
       "    .dataframe tbody tr th:only-of-type {\n",
       "        vertical-align: middle;\n",
       "    }\n",
       "\n",
       "    .dataframe tbody tr th {\n",
       "        vertical-align: top;\n",
       "    }\n",
       "\n",
       "    .dataframe thead th {\n",
       "        text-align: right;\n",
       "    }\n",
       "</style>\n",
       "<table border=\"1\" class=\"dataframe\">\n",
       "  <thead>\n",
       "    <tr style=\"text-align: right;\">\n",
       "      <th></th>\n",
       "      <th>trans_date</th>\n",
       "      <th>churned</th>\n",
       "    </tr>\n",
       "    <tr>\n",
       "      <th>customer_id</th>\n",
       "      <th></th>\n",
       "      <th></th>\n",
       "    </tr>\n",
       "  </thead>\n",
       "  <tbody>\n",
       "    <tr>\n",
       "      <th>FM1112</th>\n",
       "      <td>2019-10-14</td>\n",
       "      <td>1</td>\n",
       "    </tr>\n",
       "    <tr>\n",
       "      <th>FM1113</th>\n",
       "      <td>2019-11-09</td>\n",
       "      <td>0</td>\n",
       "    </tr>\n",
       "    <tr>\n",
       "      <th>FM1114</th>\n",
       "      <td>2019-11-12</td>\n",
       "      <td>0</td>\n",
       "    </tr>\n",
       "    <tr>\n",
       "      <th>FM1115</th>\n",
       "      <td>2019-12-05</td>\n",
       "      <td>0</td>\n",
       "    </tr>\n",
       "    <tr>\n",
       "      <th>FM1116</th>\n",
       "      <td>2019-05-25</td>\n",
       "      <td>1</td>\n",
       "    </tr>\n",
       "  </tbody>\n",
       "</table>\n",
       "</div>"
      ],
      "text/plain": [
       "            trans_date  churned\n",
       "customer_id                    \n",
       "FM1112      2019-10-14        1\n",
       "FM1113      2019-11-09        0\n",
       "FM1114      2019-11-12        0\n",
       "FM1115      2019-12-05        0\n",
       "FM1116      2019-05-25        1"
      ]
     },
     "execution_count": 6,
     "metadata": {},
     "output_type": "execute_result"
    }
   ],
   "source": [
    "best_churn['churned'] = best_churn['trans_date'].apply(lambda x: 1 if cutoff_date > x else 0)\n",
    "best_churn.head()"
   ]
  },
  {
   "cell_type": "code",
   "execution_count": 7,
   "metadata": {},
   "outputs": [],
   "source": [
    "best_churn['transactions'] = df.groupby('customer_id')['customer_id'].count()"
   ]
  },
  {
   "cell_type": "code",
   "execution_count": null,
   "metadata": {},
   "outputs": [],
   "source": []
  },
  {
   "cell_type": "code",
   "execution_count": 8,
   "metadata": {},
   "outputs": [],
   "source": [
    "best_churn['amount_spent'] = df.groupby('customer_id')['tran_amount'].sum()"
   ]
  },
  {
   "cell_type": "code",
   "execution_count": 9,
   "metadata": {},
   "outputs": [
    {
     "data": {
      "text/html": [
       "<div>\n",
       "<style scoped>\n",
       "    .dataframe tbody tr th:only-of-type {\n",
       "        vertical-align: middle;\n",
       "    }\n",
       "\n",
       "    .dataframe tbody tr th {\n",
       "        vertical-align: top;\n",
       "    }\n",
       "\n",
       "    .dataframe thead th {\n",
       "        text-align: right;\n",
       "    }\n",
       "</style>\n",
       "<table border=\"1\" class=\"dataframe\">\n",
       "  <thead>\n",
       "    <tr style=\"text-align: right;\">\n",
       "      <th></th>\n",
       "      <th>trans_date</th>\n",
       "      <th>churned</th>\n",
       "      <th>transactions</th>\n",
       "      <th>amount_spent</th>\n",
       "    </tr>\n",
       "    <tr>\n",
       "      <th>customer_id</th>\n",
       "      <th></th>\n",
       "      <th></th>\n",
       "      <th></th>\n",
       "      <th></th>\n",
       "    </tr>\n",
       "  </thead>\n",
       "  <tbody>\n",
       "    <tr>\n",
       "      <th>FM3995</th>\n",
       "      <td>2019-11-14</td>\n",
       "      <td>0</td>\n",
       "      <td>15</td>\n",
       "      <td>1044</td>\n",
       "    </tr>\n",
       "    <tr>\n",
       "      <th>FM5699</th>\n",
       "      <td>2019-10-23</td>\n",
       "      <td>0</td>\n",
       "      <td>17</td>\n",
       "      <td>1240</td>\n",
       "    </tr>\n",
       "    <tr>\n",
       "      <th>FM4527</th>\n",
       "      <td>2019-08-21</td>\n",
       "      <td>1</td>\n",
       "      <td>18</td>\n",
       "      <td>1329</td>\n",
       "    </tr>\n",
       "  </tbody>\n",
       "</table>\n",
       "</div>"
      ],
      "text/plain": [
       "            trans_date  churned  transactions  amount_spent\n",
       "customer_id                                                \n",
       "FM3995      2019-11-14        0            15          1044\n",
       "FM5699      2019-10-23        0            17          1240\n",
       "FM4527      2019-08-21        1            18          1329"
      ]
     },
     "execution_count": 9,
     "metadata": {},
     "output_type": "execute_result"
    }
   ],
   "source": [
    "best_churn.sample(3)"
   ]
  },
  {
   "cell_type": "code",
   "execution_count": 10,
   "metadata": {},
   "outputs": [],
   "source": [
    "best_churn.drop(['trans_date'],axis=1,inplace=True)"
   ]
  },
  {
   "cell_type": "code",
   "execution_count": 11,
   "metadata": {},
   "outputs": [
    {
     "data": {
      "text/html": [
       "<div>\n",
       "<style scoped>\n",
       "    .dataframe tbody tr th:only-of-type {\n",
       "        vertical-align: middle;\n",
       "    }\n",
       "\n",
       "    .dataframe tbody tr th {\n",
       "        vertical-align: top;\n",
       "    }\n",
       "\n",
       "    .dataframe thead th {\n",
       "        text-align: right;\n",
       "    }\n",
       "</style>\n",
       "<table border=\"1\" class=\"dataframe\">\n",
       "  <thead>\n",
       "    <tr style=\"text-align: right;\">\n",
       "      <th></th>\n",
       "      <th>transactions</th>\n",
       "      <th>amount_spent</th>\n",
       "    </tr>\n",
       "  </thead>\n",
       "  <tbody>\n",
       "    <tr>\n",
       "      <th>min</th>\n",
       "      <td>4.0</td>\n",
       "      <td>149.0</td>\n",
       "    </tr>\n",
       "    <tr>\n",
       "      <th>max</th>\n",
       "      <td>39.0</td>\n",
       "      <td>2933.0</td>\n",
       "    </tr>\n",
       "  </tbody>\n",
       "</table>\n",
       "</div>"
      ],
      "text/plain": [
       "     transactions  amount_spent\n",
       "min           4.0         149.0\n",
       "max          39.0        2933.0"
      ]
     },
     "execution_count": 11,
     "metadata": {},
     "output_type": "execute_result"
    }
   ],
   "source": [
    "best_churn[['transactions','amount_spent']].describe().loc[['min','max']]"
   ]
  },
  {
   "cell_type": "code",
   "execution_count": 12,
   "metadata": {},
   "outputs": [
    {
     "data": {
      "image/png": "[encoded data removed]",
      "text/plain": [
       "<Figure size 720x288 with 2 Axes>"
      ]
     },
     "metadata": {
      "needs_background": "light"
     },
     "output_type": "display_data"
    }
   ],
   "source": [
    "\n",
    "fig,(ax1,ax2) = plt.subplots(2,1,figsize=(10,4))\n",
    "\n",
    "bx1 = ax1.boxplot(best_churn['transactions'],vert=False,patch_artist=True)\n",
    "ax1.set_yticklabels(['Transactions'])\n",
    "\n",
    "\n",
    "bx2 = ax2.boxplot(best_churn['amount_spent'],vert=False,patch_artist=True)\n",
    "ax2.set_yticklabels(['Amount Spent'])\n",
    "\n",
    "# just me customizing boxplot , swear wont do this tedious code\n",
    "\n",
    "aesbox = ['boxes','whiskers','caps','medians','fliers']\n",
    "\n",
    "for item in aesbox:\n",
    "    if item == 'boxes':\n",
    "        for box in bx1['boxes']:\n",
    "            box.set(color='red', linewidth=2)\n",
    "            box.set(facecolor = 'green' )\n",
    "            box.set(hatch = '/')\n",
    "    ## change color and linewidth of the whiskers\n",
    "    elif item == 'whiskers':\n",
    "        for whisker in bx1['whiskers']:\n",
    "            whisker.set(color='#7570b3', linewidth=2)\n",
    "    elif item == 'caps':\n",
    "    ## change color and linewidth of the caps\n",
    "        for cap in bx1['caps']:\n",
    "            cap.set(color='#7570b3', linewidth=2)\n",
    "    ## change color and linewidth of the medians\n",
    "    elif item == 'medians':\n",
    "        for median in bx1['medians']:\n",
    "            median.set(color='#b2df8a', linewidth=2)\n",
    "    elif item == 'fliers':\n",
    "    ## change the style of fliers and their fill\n",
    "        for flier in bx1['fliers']:\n",
    "            flier.set(marker='o', color='#e7298a', alpha=0.5)"
   ]
  },
  {
   "cell_type": "code",
   "execution_count": 13,
   "metadata": {},
   "outputs": [],
   "source": [
    "best_churn['scale_transactions'] = best_churn['transactions'].apply(lambda x: (x - best_churn['transactions'].min())/(best_churn['transactions'].max() - best_churn['transactions'].min()) )"
   ]
  },
  {
   "cell_type": "code",
   "execution_count": 14,
   "metadata": {},
   "outputs": [],
   "source": [
    "best_churn['scale_spent'] = best_churn['amount_spent'].apply(lambda x: (x - best_churn['amount_spent'].min())/(best_churn['amount_spent'].max() - best_churn['amount_spent'].min()))"
   ]
  },
  {
   "cell_type": "code",
   "execution_count": 15,
   "metadata": {},
   "outputs": [
    {
     "data": {
      "text/html": [
       "<div>\n",
       "<style scoped>\n",
       "    .dataframe tbody tr th:only-of-type {\n",
       "        vertical-align: middle;\n",
       "    }\n",
       "\n",
       "    .dataframe tbody tr th {\n",
       "        vertical-align: top;\n",
       "    }\n",
       "\n",
       "    .dataframe thead th {\n",
       "        text-align: right;\n",
       "    }\n",
       "</style>\n",
       "<table border=\"1\" class=\"dataframe\">\n",
       "  <thead>\n",
       "    <tr style=\"text-align: right;\">\n",
       "      <th></th>\n",
       "      <th>churned</th>\n",
       "      <th>transactions</th>\n",
       "      <th>amount_spent</th>\n",
       "      <th>scale_transactions</th>\n",
       "      <th>scale_spent</th>\n",
       "    </tr>\n",
       "    <tr>\n",
       "      <th>customer_id</th>\n",
       "      <th></th>\n",
       "      <th></th>\n",
       "      <th></th>\n",
       "      <th></th>\n",
       "      <th></th>\n",
       "    </tr>\n",
       "  </thead>\n",
       "  <tbody>\n",
       "    <tr>\n",
       "      <th>FM3243</th>\n",
       "      <td>1</td>\n",
       "      <td>18</td>\n",
       "      <td>1358</td>\n",
       "      <td>0.400000</td>\n",
       "      <td>0.434267</td>\n",
       "    </tr>\n",
       "    <tr>\n",
       "      <th>FM2957</th>\n",
       "      <td>1</td>\n",
       "      <td>19</td>\n",
       "      <td>1251</td>\n",
       "      <td>0.428571</td>\n",
       "      <td>0.395833</td>\n",
       "    </tr>\n",
       "  </tbody>\n",
       "</table>\n",
       "</div>"
      ],
      "text/plain": [
       "             churned  transactions  amount_spent  scale_transactions  \\\n",
       "customer_id                                                            \n",
       "FM3243             1            18          1358            0.400000   \n",
       "FM2957             1            19          1251            0.428571   \n",
       "\n",
       "             scale_spent  \n",
       "customer_id               \n",
       "FM3243          0.434267  \n",
       "FM2957          0.395833  "
      ]
     },
     "execution_count": 15,
     "metadata": {},
     "output_type": "execute_result"
    }
   ],
   "source": [
    "best_churn.sample(2)"
   ]
  },
  {
   "cell_type": "code",
   "execution_count": 16,
   "metadata": {},
   "outputs": [],
   "source": [
    "best_churn['score'] = best_churn[['scale_transactions','scale_spent']].apply(lambda x: 0.5 * x['scale_transactions'] + 0.5 * x['scale_spent'],axis=1)"
   ]
  },
  {
   "cell_type": "code",
   "execution_count": 17,
   "metadata": {},
   "outputs": [
    {
     "data": {
      "text/html": [
       "<div>\n",
       "<style scoped>\n",
       "    .dataframe tbody tr th:only-of-type {\n",
       "        vertical-align: middle;\n",
       "    }\n",
       "\n",
       "    .dataframe tbody tr th {\n",
       "        vertical-align: top;\n",
       "    }\n",
       "\n",
       "    .dataframe thead th {\n",
       "        text-align: right;\n",
       "    }\n",
       "</style>\n",
       "<table border=\"1\" class=\"dataframe\">\n",
       "  <thead>\n",
       "    <tr style=\"text-align: right;\">\n",
       "      <th></th>\n",
       "      <th>churned</th>\n",
       "      <th>transactions</th>\n",
       "      <th>amount_spent</th>\n",
       "      <th>scale_transactions</th>\n",
       "      <th>scale_spent</th>\n",
       "      <th>score</th>\n",
       "    </tr>\n",
       "    <tr>\n",
       "      <th>customer_id</th>\n",
       "      <th></th>\n",
       "      <th></th>\n",
       "      <th></th>\n",
       "      <th></th>\n",
       "      <th></th>\n",
       "      <th></th>\n",
       "    </tr>\n",
       "  </thead>\n",
       "  <tbody>\n",
       "    <tr>\n",
       "      <th>FM1999</th>\n",
       "      <td>0</td>\n",
       "      <td>14</td>\n",
       "      <td>1002</td>\n",
       "      <td>0.285714</td>\n",
       "      <td>0.306394</td>\n",
       "      <td>0.296054</td>\n",
       "    </tr>\n",
       "    <tr>\n",
       "      <th>FM3548</th>\n",
       "      <td>0</td>\n",
       "      <td>19</td>\n",
       "      <td>1398</td>\n",
       "      <td>0.428571</td>\n",
       "      <td>0.448635</td>\n",
       "      <td>0.438603</td>\n",
       "    </tr>\n",
       "    <tr>\n",
       "      <th>FM2965</th>\n",
       "      <td>1</td>\n",
       "      <td>13</td>\n",
       "      <td>793</td>\n",
       "      <td>0.257143</td>\n",
       "      <td>0.231322</td>\n",
       "      <td>0.244232</td>\n",
       "    </tr>\n",
       "  </tbody>\n",
       "</table>\n",
       "</div>"
      ],
      "text/plain": [
       "             churned  transactions  amount_spent  scale_transactions  \\\n",
       "customer_id                                                            \n",
       "FM1999             0            14          1002            0.285714   \n",
       "FM3548             0            19          1398            0.428571   \n",
       "FM2965             1            13           793            0.257143   \n",
       "\n",
       "             scale_spent     score  \n",
       "customer_id                         \n",
       "FM1999          0.306394  0.296054  \n",
       "FM3548          0.448635  0.438603  \n",
       "FM2965          0.231322  0.244232  "
      ]
     },
     "execution_count": 17,
     "metadata": {},
     "output_type": "execute_result"
    }
   ],
   "source": [
    "best_churn.sample(3)"
   ]
  },
  {
   "cell_type": "code",
   "execution_count": 23,
   "metadata": {},
   "outputs": [],
   "source": [
    "best_churn.sort_values('score',ascending=False,inplace=True)"
   ]
  },
  {
   "cell_type": "code",
   "execution_count": 24,
   "metadata": {},
   "outputs": [
    {
     "data": {
      "text/html": [
       "<div>\n",
       "<style scoped>\n",
       "    .dataframe tbody tr th:only-of-type {\n",
       "        vertical-align: middle;\n",
       "    }\n",
       "\n",
       "    .dataframe tbody tr th {\n",
       "        vertical-align: top;\n",
       "    }\n",
       "\n",
       "    .dataframe thead th {\n",
       "        text-align: right;\n",
       "    }\n",
       "</style>\n",
       "<table border=\"1\" class=\"dataframe\">\n",
       "  <thead>\n",
       "    <tr style=\"text-align: right;\">\n",
       "      <th></th>\n",
       "      <th>churned</th>\n",
       "      <th>transactions</th>\n",
       "      <th>amount_spent</th>\n",
       "      <th>scale_transactions</th>\n",
       "      <th>scale_spent</th>\n",
       "      <th>score</th>\n",
       "    </tr>\n",
       "    <tr>\n",
       "      <th>customer_id</th>\n",
       "      <th></th>\n",
       "      <th></th>\n",
       "      <th></th>\n",
       "      <th></th>\n",
       "      <th></th>\n",
       "      <th></th>\n",
       "    </tr>\n",
       "  </thead>\n",
       "  <tbody>\n",
       "    <tr>\n",
       "      <th>FM3810</th>\n",
       "      <td>1</td>\n",
       "      <td>14</td>\n",
       "      <td>1027</td>\n",
       "      <td>0.285714</td>\n",
       "      <td>0.315374</td>\n",
       "      <td>0.300544</td>\n",
       "    </tr>\n",
       "    <tr>\n",
       "      <th>FM7343</th>\n",
       "      <td>1</td>\n",
       "      <td>14</td>\n",
       "      <td>713</td>\n",
       "      <td>0.285714</td>\n",
       "      <td>0.202586</td>\n",
       "      <td>0.244150</td>\n",
       "    </tr>\n",
       "    <tr>\n",
       "      <th>FM1298</th>\n",
       "      <td>0</td>\n",
       "      <td>21</td>\n",
       "      <td>1561</td>\n",
       "      <td>0.485714</td>\n",
       "      <td>0.507184</td>\n",
       "      <td>0.496449</td>\n",
       "    </tr>\n",
       "    <tr>\n",
       "      <th>FM4115</th>\n",
       "      <td>1</td>\n",
       "      <td>24</td>\n",
       "      <td>1763</td>\n",
       "      <td>0.571429</td>\n",
       "      <td>0.579741</td>\n",
       "      <td>0.575585</td>\n",
       "    </tr>\n",
       "  </tbody>\n",
       "</table>\n",
       "</div>"
      ],
      "text/plain": [
       "             churned  transactions  amount_spent  scale_transactions  \\\n",
       "customer_id                                                            \n",
       "FM3810             1            14          1027            0.285714   \n",
       "FM7343             1            14           713            0.285714   \n",
       "FM1298             0            21          1561            0.485714   \n",
       "FM4115             1            24          1763            0.571429   \n",
       "\n",
       "             scale_spent     score  \n",
       "customer_id                         \n",
       "FM3810          0.315374  0.300544  \n",
       "FM7343          0.202586  0.244150  \n",
       "FM1298          0.507184  0.496449  \n",
       "FM4115          0.579741  0.575585  "
      ]
     },
     "execution_count": 24,
     "metadata": {},
     "output_type": "execute_result"
    }
   ],
   "source": [
    "best_churn.sample(4)"
   ]
  },
  {
   "cell_type": "markdown",
   "metadata": {},
   "source": [
    "employ the following strategy to determine the cutoff point:\n",
    "\n",
    "Find the mean of the transactions and compute 30% of that. Make this the value of the coupon;\n",
    "Divide the budget by the value obtained above to get the number of coupons you're going to be sending out;\n",
    "Pick the first  churned customers where  is the result of the calculation done in the previous step. This is your cutoff point.\n",
    "\n",
    "avoid price dumping"
   ]
  },
  {
   "cell_type": "code",
   "execution_count": 36,
   "metadata": {},
   "outputs": [],
   "source": [
    "coupon = best_churn['amount_spent'].mean() * 0.3"
   ]
  },
  {
   "cell_type": "markdown",
   "metadata": {},
   "source": [
    "The budget is $1,000.\n",
    "No indication was given about how much each coupon would be worth — it's for you to decide.\n",
    "The coupons need to be good enough to prompt people to actually use them.\n",
    "They can't be too high because:\n",
    "That reduces the number of customers who get them.\n",
    "It would be like giving away money.\n",
    "Due to price dumping, it could be illegal."
   ]
  },
  {
   "cell_type": "code",
   "execution_count": 37,
   "metadata": {},
   "outputs": [],
   "source": [
    "nr_of_customers = int(1000/coupon)"
   ]
  },
  {
   "cell_type": "code",
   "execution_count": 44,
   "metadata": {},
   "outputs": [],
   "source": [
    "top_50_churned = best_churn[best_churn['churned']==1][:50]"
   ]
  },
  {
   "cell_type": "code",
   "execution_count": 45,
   "metadata": {},
   "outputs": [],
   "source": [
    "top_50_churned.to_csv('best_customers.txt')"
   ]
  },
  {
   "cell_type": "code",
   "execution_count": null,
   "metadata": {},
   "outputs": [],
   "source": [
    "\n",
    "coupon = data['tran_amount'].mean() * 0.3\n",
    "nr_of_customers = 1000/coupon\n",
    "print(coupon, nr_of_customers, sep=\"\\n\")"
   ]
  },
  {
   "cell_type": "code",
   "execution_count": null,
   "metadata": {},
   "outputs": [],
   "source": [
    "# plt.subplot(1,2,1)\n",
    "# plt.boxplot(best_churn['transactions'])\n",
    "\n",
    "# plt.subplot(1,2,2)\n",
    "# plt.boxplot(best_churn['amount_spent'])"
   ]
  }
 ],
 "metadata": {
  "kernelspec": {
   "display_name": "Python 3",
   "language": "python",
   "name": "python3"
  },
  "language_info": {
   "codemirror_mode": {
    "name": "ipython",
    "version": 3
   },
   "file_extension": ".py",
   "mimetype": "text/x-python",
   "name": "python",
   "nbconvert_exporter": "python",
   "pygments_lexer": "ipython3",
   "version": "3.7.4"
  }
 },
 "nbformat": 4,
 "nbformat_minor": 4
}
